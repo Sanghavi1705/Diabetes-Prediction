{
 "cells": [
  {
   "cell_type": "markdown",
   "id": "2019aa00",
   "metadata": {
    "_cell_guid": "b1076dfc-b9ad-4769-8c92-a6c4dae69d19",
    "_uuid": "8f2839f25d086af736a60e9eeb907d3b93b6e0e5",
    "execution": {
     "iopub.execute_input": "2023-11-27T17:28:58.606516Z",
     "iopub.status.busy": "2023-11-27T17:28:58.606035Z",
     "iopub.status.idle": "2023-11-27T17:28:58.612757Z",
     "shell.execute_reply": "2023-11-27T17:28:58.611617Z",
     "shell.execute_reply.started": "2023-11-27T17:28:58.606479Z"
    },
    "papermill": {
     "duration": 0.011134,
     "end_time": "2023-11-27T17:33:26.660354",
     "exception": false,
     "start_time": "2023-11-27T17:33:26.649220",
     "status": "completed"
    },
    "tags": []
   },
   "source": [
    "# Please **Upvote** If you like the notebook"
   ]
  },
  {
   "cell_type": "code",
   "execution_count": 1,
   "id": "57f5f0fd",
   "metadata": {
    "execution": {
     "iopub.execute_input": "2023-11-27T17:33:26.684696Z",
     "iopub.status.busy": "2023-11-27T17:33:26.684313Z",
     "iopub.status.idle": "2023-11-27T17:33:28.600243Z",
     "shell.execute_reply": "2023-11-27T17:33:28.599356Z"
    },
    "papermill": {
     "duration": 1.931278,
     "end_time": "2023-11-27T17:33:28.602868",
     "exception": false,
     "start_time": "2023-11-27T17:33:26.671590",
     "status": "completed"
    },
    "tags": []
   },
   "outputs": [],
   "source": [
    "import numpy as np # linear algebra\n",
    "import pandas as pd # data processing, CSV file I/O (e.g. pd.read_csv)\n",
    "import matplotlib.pyplot as plt\n",
    "import seaborn as sns"
   ]
  },
  {
   "cell_type": "markdown",
   "id": "396d7ba5",
   "metadata": {
    "papermill": {
     "duration": 0.010529,
     "end_time": "2023-11-27T17:33:28.624417",
     "exception": false,
     "start_time": "2023-11-27T17:33:28.613888",
     "status": "completed"
    },
    "tags": []
   },
   "source": [
    "![](data:image/jpeg;base64,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)"
   ]
  },
  {
   "cell_type": "markdown",
   "id": "eb83646a",
   "metadata": {
    "papermill": {
     "duration": 0.0108,
     "end_time": "2023-11-27T17:33:28.646244",
     "exception": false,
     "start_time": "2023-11-27T17:33:28.635444",
     "status": "completed"
    },
    "tags": []
   },
   "source": [
    "# Understanding the data"
   ]
  },
  {
   "cell_type": "code",
   "execution_count": 2,
   "id": "323adcb2",
   "metadata": {
    "execution": {
     "iopub.execute_input": "2023-11-27T17:33:28.670533Z",
     "iopub.status.busy": "2023-11-27T17:33:28.669785Z",
     "iopub.status.idle": "2023-11-27T17:33:28.705033Z",
     "shell.execute_reply": "2023-11-27T17:33:28.703822Z"
    },
    "papermill": {
     "duration": 0.050545,
     "end_time": "2023-11-27T17:33:28.707799",
     "exception": false,
     "start_time": "2023-11-27T17:33:28.657254",
     "status": "completed"
    },
    "tags": []
   },
   "outputs": [],
   "source": [
    "df = pd.read_csv(\"/kaggle/input/healthcare-diabetes/Healthcare-Diabetes.csv\")"
   ]
  },
  {
   "cell_type": "code",
   "execution_count": 3,
   "id": "9f4da879",
   "metadata": {
    "execution": {
     "iopub.execute_input": "2023-11-27T17:33:28.731386Z",
     "iopub.status.busy": "2023-11-27T17:33:28.730929Z",
     "iopub.status.idle": "2023-11-27T17:33:28.759113Z",
     "shell.execute_reply": "2023-11-27T17:33:28.758014Z"
    },
    "papermill": {
     "duration": 0.042957,
     "end_time": "2023-11-27T17:33:28.761724",
     "exception": false,
     "start_time": "2023-11-27T17:33:28.718767",
     "status": "completed"
    },
    "tags": []
   },
   "outputs": [
    {
     "data": {
      "text/html": [
       "<div>\n",
       "<style scoped>\n",
       "    .dataframe tbody tr th:only-of-type {\n",
       "        vertical-align: middle;\n",
       "    }\n",
       "\n",
       "    .dataframe tbody tr th {\n",
       "        vertical-align: top;\n",
       "    }\n",
       "\n",
       "    .dataframe thead th {\n",
       "        text-align: right;\n",
       "    }\n",
       "</style>\n",
       "<table border=\"1\" class=\"dataframe\">\n",
       "  <thead>\n",
       "    <tr style=\"text-align: right;\">\n",
       "      <th></th>\n",
       "      <th>Id</th>\n",
       "      <th>Pregnancies</th>\n",
       "      <th>Glucose</th>\n",
       "      <th>BloodPressure</th>\n",
       "      <th>SkinThickness</th>\n",
       "      <th>Insulin</th>\n",
       "      <th>BMI</th>\n",
       "      <th>DiabetesPedigreeFunction</th>\n",
       "      <th>Age</th>\n",
       "      <th>Outcome</th>\n",
       "    </tr>\n",
       "  </thead>\n",
       "  <tbody>\n",
       "    <tr>\n",
       "      <th>0</th>\n",
       "      <td>1</td>\n",
       "      <td>6</td>\n",
       "      <td>148</td>\n",
       "      <td>72</td>\n",
       "      <td>35</td>\n",
       "      <td>0</td>\n",
       "      <td>33.6</td>\n",
       "      <td>0.627</td>\n",
       "      <td>50</td>\n",
       "      <td>1</td>\n",
       "    </tr>\n",
       "    <tr>\n",
       "      <th>1</th>\n",
       "      <td>2</td>\n",
       "      <td>1</td>\n",
       "      <td>85</td>\n",
       "      <td>66</td>\n",
       "      <td>29</td>\n",
       "      <td>0</td>\n",
       "      <td>26.6</td>\n",
       "      <td>0.351</td>\n",
       "      <td>31</td>\n",
       "      <td>0</td>\n",
       "    </tr>\n",
       "    <tr>\n",
       "      <th>2</th>\n",
       "      <td>3</td>\n",
       "      <td>8</td>\n",
       "      <td>183</td>\n",
       "      <td>64</td>\n",
       "      <td>0</td>\n",
       "      <td>0</td>\n",
       "      <td>23.3</td>\n",
       "      <td>0.672</td>\n",
       "      <td>32</td>\n",
       "      <td>1</td>\n",
       "    </tr>\n",
       "    <tr>\n",
       "      <th>3</th>\n",
       "      <td>4</td>\n",
       "      <td>1</td>\n",
       "      <td>89</td>\n",
       "      <td>66</td>\n",
       "      <td>23</td>\n",
       "      <td>94</td>\n",
       "      <td>28.1</td>\n",
       "      <td>0.167</td>\n",
       "      <td>21</td>\n",
       "      <td>0</td>\n",
       "    </tr>\n",
       "    <tr>\n",
       "      <th>4</th>\n",
       "      <td>5</td>\n",
       "      <td>0</td>\n",
       "      <td>137</td>\n",
       "      <td>40</td>\n",
       "      <td>35</td>\n",
       "      <td>168</td>\n",
       "      <td>43.1</td>\n",
       "      <td>2.288</td>\n",
       "      <td>33</td>\n",
       "      <td>1</td>\n",
       "    </tr>\n",
       "  </tbody>\n",
       "</table>\n",
       "</div>"
      ],
      "text/plain": [
       "   Id  Pregnancies  Glucose  BloodPressure  SkinThickness  Insulin   BMI  \\\n",
       "0   1            6      148             72             35        0  33.6   \n",
       "1   2            1       85             66             29        0  26.6   \n",
       "2   3            8      183             64              0        0  23.3   \n",
       "3   4            1       89             66             23       94  28.1   \n",
       "4   5            0      137             40             35      168  43.1   \n",
       "\n",
       "   DiabetesPedigreeFunction  Age  Outcome  \n",
       "0                     0.627   50        1  \n",
       "1                     0.351   31        0  \n",
       "2                     0.672   32        1  \n",
       "3                     0.167   21        0  \n",
       "4                     2.288   33        1  "
      ]
     },
     "execution_count": 3,
     "metadata": {},
     "output_type": "execute_result"
    }
   ],
   "source": [
    "df.head()"
   ]
  },
  {
   "cell_type": "code",
   "execution_count": 4,
   "id": "a16421a2",
   "metadata": {
    "execution": {
     "iopub.execute_input": "2023-11-27T17:33:28.786149Z",
     "iopub.status.busy": "2023-11-27T17:33:28.785726Z",
     "iopub.status.idle": "2023-11-27T17:33:28.814661Z",
     "shell.execute_reply": "2023-11-27T17:33:28.813513Z"
    },
    "papermill": {
     "duration": 0.044261,
     "end_time": "2023-11-27T17:33:28.817442",
     "exception": false,
     "start_time": "2023-11-27T17:33:28.773181",
     "status": "completed"
    },
    "tags": []
   },
   "outputs": [
    {
     "name": "stdout",
     "output_type": "stream",
     "text": [
      "<class 'pandas.core.frame.DataFrame'>\n",
      "RangeIndex: 2768 entries, 0 to 2767\n",
      "Data columns (total 10 columns):\n",
      " #   Column                    Non-Null Count  Dtype  \n",
      "---  ------                    --------------  -----  \n",
      " 0   Id                        2768 non-null   int64  \n",
      " 1   Pregnancies               2768 non-null   int64  \n",
      " 2   Glucose                   2768 non-null   int64  \n",
      " 3   BloodPressure             2768 non-null   int64  \n",
      " 4   SkinThickness             2768 non-null   int64  \n",
      " 5   Insulin                   2768 non-null   int64  \n",
      " 6   BMI                       2768 non-null   float64\n",
      " 7   DiabetesPedigreeFunction  2768 non-null   float64\n",
      " 8   Age                       2768 non-null   int64  \n",
      " 9   Outcome                   2768 non-null   int64  \n",
      "dtypes: float64(2), int64(8)\n",
      "memory usage: 216.4 KB\n"
     ]
    }
   ],
   "source": [
    "df.info()"
   ]
  },
  {
   "cell_type": "code",
   "execution_count": 5,
   "id": "5d8d8d8e",
   "metadata": {
    "execution": {
     "iopub.execute_input": "2023-11-27T17:33:28.842184Z",
     "iopub.status.busy": "2023-11-27T17:33:28.841747Z",
     "iopub.status.idle": "2023-11-27T17:33:28.889760Z",
     "shell.execute_reply": "2023-11-27T17:33:28.888631Z"
    },
    "papermill": {
     "duration": 0.063356,
     "end_time": "2023-11-27T17:33:28.892309",
     "exception": false,
     "start_time": "2023-11-27T17:33:28.828953",
     "status": "completed"
    },
    "tags": []
   },
   "outputs": [
    {
     "data": {
      "text/html": [
       "<div>\n",
       "<style scoped>\n",
       "    .dataframe tbody tr th:only-of-type {\n",
       "        vertical-align: middle;\n",
       "    }\n",
       "\n",
       "    .dataframe tbody tr th {\n",
       "        vertical-align: top;\n",
       "    }\n",
       "\n",
       "    .dataframe thead th {\n",
       "        text-align: right;\n",
       "    }\n",
       "</style>\n",
       "<table border=\"1\" class=\"dataframe\">\n",
       "  <thead>\n",
       "    <tr style=\"text-align: right;\">\n",
       "      <th></th>\n",
       "      <th>Id</th>\n",
       "      <th>Pregnancies</th>\n",
       "      <th>Glucose</th>\n",
       "      <th>BloodPressure</th>\n",
       "      <th>SkinThickness</th>\n",
       "      <th>Insulin</th>\n",
       "      <th>BMI</th>\n",
       "      <th>DiabetesPedigreeFunction</th>\n",
       "      <th>Age</th>\n",
       "      <th>Outcome</th>\n",
       "    </tr>\n",
       "  </thead>\n",
       "  <tbody>\n",
       "    <tr>\n",
       "      <th>count</th>\n",
       "      <td>2768.000000</td>\n",
       "      <td>2768.000000</td>\n",
       "      <td>2768.000000</td>\n",
       "      <td>2768.000000</td>\n",
       "      <td>2768.000000</td>\n",
       "      <td>2768.000000</td>\n",
       "      <td>2768.000000</td>\n",
       "      <td>2768.000000</td>\n",
       "      <td>2768.000000</td>\n",
       "      <td>2768.000000</td>\n",
       "    </tr>\n",
       "    <tr>\n",
       "      <th>mean</th>\n",
       "      <td>1384.500000</td>\n",
       "      <td>3.742775</td>\n",
       "      <td>121.102601</td>\n",
       "      <td>69.134393</td>\n",
       "      <td>20.824422</td>\n",
       "      <td>80.127890</td>\n",
       "      <td>32.137392</td>\n",
       "      <td>0.471193</td>\n",
       "      <td>33.132225</td>\n",
       "      <td>0.343931</td>\n",
       "    </tr>\n",
       "    <tr>\n",
       "      <th>std</th>\n",
       "      <td>799.197097</td>\n",
       "      <td>3.323801</td>\n",
       "      <td>32.036508</td>\n",
       "      <td>19.231438</td>\n",
       "      <td>16.059596</td>\n",
       "      <td>112.301933</td>\n",
       "      <td>8.076127</td>\n",
       "      <td>0.325669</td>\n",
       "      <td>11.777230</td>\n",
       "      <td>0.475104</td>\n",
       "    </tr>\n",
       "    <tr>\n",
       "      <th>min</th>\n",
       "      <td>1.000000</td>\n",
       "      <td>0.000000</td>\n",
       "      <td>0.000000</td>\n",
       "      <td>0.000000</td>\n",
       "      <td>0.000000</td>\n",
       "      <td>0.000000</td>\n",
       "      <td>0.000000</td>\n",
       "      <td>0.078000</td>\n",
       "      <td>21.000000</td>\n",
       "      <td>0.000000</td>\n",
       "    </tr>\n",
       "    <tr>\n",
       "      <th>25%</th>\n",
       "      <td>692.750000</td>\n",
       "      <td>1.000000</td>\n",
       "      <td>99.000000</td>\n",
       "      <td>62.000000</td>\n",
       "      <td>0.000000</td>\n",
       "      <td>0.000000</td>\n",
       "      <td>27.300000</td>\n",
       "      <td>0.244000</td>\n",
       "      <td>24.000000</td>\n",
       "      <td>0.000000</td>\n",
       "    </tr>\n",
       "    <tr>\n",
       "      <th>50%</th>\n",
       "      <td>1384.500000</td>\n",
       "      <td>3.000000</td>\n",
       "      <td>117.000000</td>\n",
       "      <td>72.000000</td>\n",
       "      <td>23.000000</td>\n",
       "      <td>37.000000</td>\n",
       "      <td>32.200000</td>\n",
       "      <td>0.375000</td>\n",
       "      <td>29.000000</td>\n",
       "      <td>0.000000</td>\n",
       "    </tr>\n",
       "    <tr>\n",
       "      <th>75%</th>\n",
       "      <td>2076.250000</td>\n",
       "      <td>6.000000</td>\n",
       "      <td>141.000000</td>\n",
       "      <td>80.000000</td>\n",
       "      <td>32.000000</td>\n",
       "      <td>130.000000</td>\n",
       "      <td>36.625000</td>\n",
       "      <td>0.624000</td>\n",
       "      <td>40.000000</td>\n",
       "      <td>1.000000</td>\n",
       "    </tr>\n",
       "    <tr>\n",
       "      <th>max</th>\n",
       "      <td>2768.000000</td>\n",
       "      <td>17.000000</td>\n",
       "      <td>199.000000</td>\n",
       "      <td>122.000000</td>\n",
       "      <td>110.000000</td>\n",
       "      <td>846.000000</td>\n",
       "      <td>80.600000</td>\n",
       "      <td>2.420000</td>\n",
       "      <td>81.000000</td>\n",
       "      <td>1.000000</td>\n",
       "    </tr>\n",
       "  </tbody>\n",
       "</table>\n",
       "</div>"
      ],
      "text/plain": [
       "                Id  Pregnancies      Glucose  BloodPressure  SkinThickness  \\\n",
       "count  2768.000000  2768.000000  2768.000000    2768.000000    2768.000000   \n",
       "mean   1384.500000     3.742775   121.102601      69.134393      20.824422   \n",
       "std     799.197097     3.323801    32.036508      19.231438      16.059596   \n",
       "min       1.000000     0.000000     0.000000       0.000000       0.000000   \n",
       "25%     692.750000     1.000000    99.000000      62.000000       0.000000   \n",
       "50%    1384.500000     3.000000   117.000000      72.000000      23.000000   \n",
       "75%    2076.250000     6.000000   141.000000      80.000000      32.000000   \n",
       "max    2768.000000    17.000000   199.000000     122.000000     110.000000   \n",
       "\n",
       "           Insulin          BMI  DiabetesPedigreeFunction          Age  \\\n",
       "count  2768.000000  2768.000000               2768.000000  2768.000000   \n",
       "mean     80.127890    32.137392                  0.471193    33.132225   \n",
       "std     112.301933     8.076127                  0.325669    11.777230   \n",
       "min       0.000000     0.000000                  0.078000    21.000000   \n",
       "25%       0.000000    27.300000                  0.244000    24.000000   \n",
       "50%      37.000000    32.200000                  0.375000    29.000000   \n",
       "75%     130.000000    36.625000                  0.624000    40.000000   \n",
       "max     846.000000    80.600000                  2.420000    81.000000   \n",
       "\n",
       "           Outcome  \n",
       "count  2768.000000  \n",
       "mean      0.343931  \n",
       "std       0.475104  \n",
       "min       0.000000  \n",
       "25%       0.000000  \n",
       "50%       0.000000  \n",
       "75%       1.000000  \n",
       "max       1.000000  "
      ]
     },
     "execution_count": 5,
     "metadata": {},
     "output_type": "execute_result"
    }
   ],
   "source": [
    "df.describe()"
   ]
  },
  {
   "cell_type": "code",
   "execution_count": 6,
   "id": "3e453ea2",
   "metadata": {
    "execution": {
     "iopub.execute_input": "2023-11-27T17:33:28.917236Z",
     "iopub.status.busy": "2023-11-27T17:33:28.916819Z",
     "iopub.status.idle": "2023-11-27T17:33:28.926162Z",
     "shell.execute_reply": "2023-11-27T17:33:28.925081Z"
    },
    "papermill": {
     "duration": 0.0245,
     "end_time": "2023-11-27T17:33:28.928469",
     "exception": false,
     "start_time": "2023-11-27T17:33:28.903969",
     "status": "completed"
    },
    "tags": []
   },
   "outputs": [
    {
     "data": {
      "text/plain": [
       "Id                          0\n",
       "Pregnancies                 0\n",
       "Glucose                     0\n",
       "BloodPressure               0\n",
       "SkinThickness               0\n",
       "Insulin                     0\n",
       "BMI                         0\n",
       "DiabetesPedigreeFunction    0\n",
       "Age                         0\n",
       "Outcome                     0\n",
       "dtype: int64"
      ]
     },
     "execution_count": 6,
     "metadata": {},
     "output_type": "execute_result"
    }
   ],
   "source": [
    "df.isnull().sum()"
   ]
  },
  {
   "cell_type": "code",
   "execution_count": 7,
   "id": "aa2e6c6c",
   "metadata": {
    "execution": {
     "iopub.execute_input": "2023-11-27T17:33:28.954078Z",
     "iopub.status.busy": "2023-11-27T17:33:28.953144Z",
     "iopub.status.idle": "2023-11-27T17:33:28.963493Z",
     "shell.execute_reply": "2023-11-27T17:33:28.962087Z"
    },
    "papermill": {
     "duration": 0.025632,
     "end_time": "2023-11-27T17:33:28.965872",
     "exception": false,
     "start_time": "2023-11-27T17:33:28.940240",
     "status": "completed"
    },
    "tags": []
   },
   "outputs": [],
   "source": [
    "df = df.drop('Id',axis=1)"
   ]
  },
  {
   "cell_type": "code",
   "execution_count": 8,
   "id": "dfa5187d",
   "metadata": {
    "execution": {
     "iopub.execute_input": "2023-11-27T17:33:28.991445Z",
     "iopub.status.busy": "2023-11-27T17:33:28.990996Z",
     "iopub.status.idle": "2023-11-27T17:33:29.002722Z",
     "shell.execute_reply": "2023-11-27T17:33:29.001905Z"
    },
    "papermill": {
     "duration": 0.027225,
     "end_time": "2023-11-27T17:33:29.004956",
     "exception": false,
     "start_time": "2023-11-27T17:33:28.977731",
     "status": "completed"
    },
    "tags": []
   },
   "outputs": [
    {
     "data": {
      "text/plain": [
       "Pregnancies                 0.223796\n",
       "Glucose                     0.460644\n",
       "BloodPressure               0.072900\n",
       "SkinThickness               0.075603\n",
       "Insulin                     0.123646\n",
       "BMI                         0.280928\n",
       "DiabetesPedigreeFunction    0.160664\n",
       "Age                         0.237050\n",
       "Outcome                     1.000000\n",
       "Name: Outcome, dtype: float64"
      ]
     },
     "execution_count": 8,
     "metadata": {},
     "output_type": "execute_result"
    }
   ],
   "source": [
    "df.corr()['Outcome']"
   ]
  },
  {
   "cell_type": "code",
   "execution_count": 9,
   "id": "6e83306c",
   "metadata": {
    "execution": {
     "iopub.execute_input": "2023-11-27T17:33:29.031278Z",
     "iopub.status.busy": "2023-11-27T17:33:29.030846Z",
     "iopub.status.idle": "2023-11-27T17:33:29.390428Z",
     "shell.execute_reply": "2023-11-27T17:33:29.389252Z"
    },
    "papermill": {
     "duration": 0.375931,
     "end_time": "2023-11-27T17:33:29.393089",
     "exception": false,
     "start_time": "2023-11-27T17:33:29.017158",
     "status": "completed"
    },
    "tags": []
   },
   "outputs": [
    {
     "data": {
      "text/plain": [
       "<Axes: xlabel='Outcome', ylabel='count'>"
      ]
     },
     "execution_count": 9,
     "metadata": {},
     "output_type": "execute_result"
    },
    {
     "data": {
      "image/png": "[encoded data removed]",
      "text/plain": [
       "<Figure size 640x480 with 1 Axes>"
      ]
     },
     "metadata": {},
     "output_type": "display_data"
    }
   ],
   "source": [
    "sns.countplot(data=df,x='Outcome',palette='Set2')"
   ]
  },
  {
   "cell_type": "markdown",
   "id": "abf14d6c",
   "metadata": {
    "papermill": {
     "duration": 0.012042,
     "end_time": "2023-11-27T17:33:29.417813",
     "exception": false,
     "start_time": "2023-11-27T17:33:29.405771",
     "status": "completed"
    },
    "tags": []
   },
   "source": [
    "# Modeling the data"
   ]
  },
  {
   "cell_type": "code",
   "execution_count": 10,
   "id": "9ecb19a2",
   "metadata": {
    "execution": {
     "iopub.execute_input": "2023-11-27T17:33:29.445197Z",
     "iopub.status.busy": "2023-11-27T17:33:29.444755Z",
     "iopub.status.idle": "2023-11-27T17:33:29.451303Z",
     "shell.execute_reply": "2023-11-27T17:33:29.450202Z"
    },
    "papermill": {
     "duration": 0.022992,
     "end_time": "2023-11-27T17:33:29.453755",
     "exception": false,
     "start_time": "2023-11-27T17:33:29.430763",
     "status": "completed"
    },
    "tags": []
   },
   "outputs": [],
   "source": [
    "X = df.drop('Outcome',axis=1)\n",
    "y = df['Outcome']"
   ]
  },
  {
   "cell_type": "code",
   "execution_count": 11,
   "id": "4932af31",
   "metadata": {
    "execution": {
     "iopub.execute_input": "2023-11-27T17:33:29.482553Z",
     "iopub.status.busy": "2023-11-27T17:33:29.481811Z",
     "iopub.status.idle": "2023-11-27T17:33:29.785625Z",
     "shell.execute_reply": "2023-11-27T17:33:29.784352Z"
    },
    "papermill": {
     "duration": 0.321694,
     "end_time": "2023-11-27T17:33:29.788399",
     "exception": false,
     "start_time": "2023-11-27T17:33:29.466705",
     "status": "completed"
    },
    "tags": []
   },
   "outputs": [],
   "source": [
    "from sklearn.model_selection import train_test_split"
   ]
  },
  {
   "cell_type": "code",
   "execution_count": 12,
   "id": "1db0a346",
   "metadata": {
    "execution": {
     "iopub.execute_input": "2023-11-27T17:33:29.815979Z",
     "iopub.status.busy": "2023-11-27T17:33:29.815576Z",
     "iopub.status.idle": "2023-11-27T17:33:29.823015Z",
     "shell.execute_reply": "2023-11-27T17:33:29.822064Z"
    },
    "papermill": {
     "duration": 0.02416,
     "end_time": "2023-11-27T17:33:29.825256",
     "exception": false,
     "start_time": "2023-11-27T17:33:29.801096",
     "status": "completed"
    },
    "tags": []
   },
   "outputs": [],
   "source": [
    "X_train, X_test, y_train, y_test = train_test_split( X, y, test_size=0.2, random_state=7)"
   ]
  },
  {
   "cell_type": "code",
   "execution_count": 13,
   "id": "a3b006e2",
   "metadata": {
    "execution": {
     "iopub.execute_input": "2023-11-27T17:33:29.852650Z",
     "iopub.status.busy": "2023-11-27T17:33:29.852105Z",
     "iopub.status.idle": "2023-11-27T17:33:30.129765Z",
     "shell.execute_reply": "2023-11-27T17:33:30.128449Z"
    },
    "papermill": {
     "duration": 0.294973,
     "end_time": "2023-11-27T17:33:30.133002",
     "exception": false,
     "start_time": "2023-11-27T17:33:29.838029",
     "status": "completed"
    },
    "tags": []
   },
   "outputs": [],
   "source": [
    "from sklearn.linear_model import LogisticRegression\n",
    "from sklearn.neighbors import KNeighborsClassifier\n",
    "from sklearn.tree import DecisionTreeClassifier\n",
    "from sklearn.ensemble import RandomForestClassifier\n",
    "from sklearn.svm import SVC\n",
    "from sklearn.metrics import confusion_matrix,classification_report,accuracy_score"
   ]
  },
  {
   "cell_type": "markdown",
   "id": "12db3d6d",
   "metadata": {
    "papermill": {
     "duration": 0.01204,
     "end_time": "2023-11-27T17:33:30.157607",
     "exception": false,
     "start_time": "2023-11-27T17:33:30.145567",
     "status": "completed"
    },
    "tags": []
   },
   "source": [
    "# Model - 1 Logistic Regression"
   ]
  },
  {
   "cell_type": "code",
   "execution_count": 14,
   "id": "0f719598",
   "metadata": {
    "execution": {
     "iopub.execute_input": "2023-11-27T17:33:30.184948Z",
     "iopub.status.busy": "2023-11-27T17:33:30.183685Z",
     "iopub.status.idle": "2023-11-27T17:33:30.274372Z",
     "shell.execute_reply": "2023-11-27T17:33:30.272995Z"
    },
    "papermill": {
     "duration": 0.109747,
     "end_time": "2023-11-27T17:33:30.279649",
     "exception": false,
     "start_time": "2023-11-27T17:33:30.169902",
     "status": "completed"
    },
    "tags": []
   },
   "outputs": [
    {
     "name": "stderr",
     "output_type": "stream",
     "text": [
      "/opt/conda/lib/python3.10/site-packages/sklearn/linear_model/_logistic.py:458: ConvergenceWarning: lbfgs failed to converge (status=1):\n",
      "STOP: TOTAL NO. of ITERATIONS REACHED LIMIT.\n",
      "\n",
      "Increase the number of iterations (max_iter) or scale the data as shown in:\n",
      "    https://scikit-learn.org/stable/modules/preprocessing.html\n",
      "Please also refer to the documentation for alternative solver options:\n",
      "    https://scikit-learn.org/stable/modules/linear_model.html#logistic-regression\n",
      "  n_iter_i = _check_optimize_result(\n"
     ]
    },
    {
     "data": {
      "text/html": [
       "<style>#sk-container-id-1 {color: black;background-color: white;}#sk-container-id-1 pre{padding: 0;}#sk-container-id-1 div.sk-toggleable {background-color: white;}#sk-container-id-1 label.sk-toggleable__label {cursor: pointer;display: block;width: 100%;margin-bottom: 0;padding: 0.3em;box-sizing: border-box;text-align: center;}#sk-container-id-1 label.sk-toggleable__label-arrow:before {content: \"▸\";float: left;margin-right: 0.25em;color: #696969;}#sk-container-id-1 label.sk-toggleable__label-arrow:hover:before {color: black;}#sk-container-id-1 div.sk-estimator:hover label.sk-toggleable__label-arrow:before {color: black;}#sk-container-id-1 div.sk-toggleable__content {max-height: 0;max-width: 0;overflow: hidden;text-align: left;background-color: #f0f8ff;}#sk-container-id-1 div.sk-toggleable__content pre {margin: 0.2em;color: black;border-radius: 0.25em;background-color: #f0f8ff;}#sk-container-id-1 input.sk-toggleable__control:checked~div.sk-toggleable__content {max-height: 200px;max-width: 100%;overflow: auto;}#sk-container-id-1 input.sk-toggleable__control:checked~label.sk-toggleable__label-arrow:before {content: \"▾\";}#sk-container-id-1 div.sk-estimator input.sk-toggleable__control:checked~label.sk-toggleable__label {background-color: #d4ebff;}#sk-container-id-1 div.sk-label input.sk-toggleable__control:checked~label.sk-toggleable__label {background-color: #d4ebff;}#sk-container-id-1 input.sk-hidden--visually {border: 0;clip: rect(1px 1px 1px 1px);clip: rect(1px, 1px, 1px, 1px);height: 1px;margin: -1px;overflow: hidden;padding: 0;position: absolute;width: 1px;}#sk-container-id-1 div.sk-estimator {font-family: monospace;background-color: #f0f8ff;border: 1px dotted black;border-radius: 0.25em;box-sizing: border-box;margin-bottom: 0.5em;}#sk-container-id-1 div.sk-estimator:hover {background-color: #d4ebff;}#sk-container-id-1 div.sk-parallel-item::after {content: \"\";width: 100%;border-bottom: 1px solid gray;flex-grow: 1;}#sk-container-id-1 div.sk-label:hover label.sk-toggleable__label {background-color: #d4ebff;}#sk-container-id-1 div.sk-serial::before {content: \"\";position: absolute;border-left: 1px solid gray;box-sizing: border-box;top: 0;bottom: 0;left: 50%;z-index: 0;}#sk-container-id-1 div.sk-serial {display: flex;flex-direction: column;align-items: center;background-color: white;padding-right: 0.2em;padding-left: 0.2em;position: relative;}#sk-container-id-1 div.sk-item {position: relative;z-index: 1;}#sk-container-id-1 div.sk-parallel {display: flex;align-items: stretch;justify-content: center;background-color: white;position: relative;}#sk-container-id-1 div.sk-item::before, #sk-container-id-1 div.sk-parallel-item::before {content: \"\";position: absolute;border-left: 1px solid gray;box-sizing: border-box;top: 0;bottom: 0;left: 50%;z-index: -1;}#sk-container-id-1 div.sk-parallel-item {display: flex;flex-direction: column;z-index: 1;position: relative;background-color: white;}#sk-container-id-1 div.sk-parallel-item:first-child::after {align-self: flex-end;width: 50%;}#sk-container-id-1 div.sk-parallel-item:last-child::after {align-self: flex-start;width: 50%;}#sk-container-id-1 div.sk-parallel-item:only-child::after {width: 0;}#sk-container-id-1 div.sk-dashed-wrapped {border: 1px dashed gray;margin: 0 0.4em 0.5em 0.4em;box-sizing: border-box;padding-bottom: 0.4em;background-color: white;}#sk-container-id-1 div.sk-label label {font-family: monospace;font-weight: bold;display: inline-block;line-height: 1.2em;}#sk-container-id-1 div.sk-label-container {text-align: center;}#sk-container-id-1 div.sk-container {/* jupyter's `normalize.less` sets `[hidden] { display: none; }` but bootstrap.min.css set `[hidden] { display: none !important; }` so we also need the `!important` here to be able to override the default hidden behavior on the sphinx rendered scikit-learn.org. See: https://github.com/scikit-learn/scikit-learn/issues/21755 */display: inline-block !important;position: relative;}#sk-container-id-1 div.sk-text-repr-fallback {display: none;}</style><div id=\"sk-container-id-1\" class=\"sk-top-container\"><div class=\"sk-text-repr-fallback\"><pre>LogisticRegression()</pre><b>In a Jupyter environment, please rerun this cell to show the HTML representation or trust the notebook. <br />On GitHub, the HTML representation is unable to render, please try loading this page with nbviewer.org.</b></div><div class=\"sk-container\" hidden><div class=\"sk-item\"><div class=\"sk-estimator sk-toggleable\"><input class=\"sk-toggleable__control sk-hidden--visually\" id=\"sk-estimator-id-1\" type=\"checkbox\" checked><label for=\"sk-estimator-id-1\" class=\"sk-toggleable__label sk-toggleable__label-arrow\">LogisticRegression</label><div class=\"sk-toggleable__content\"><pre>LogisticRegression()</pre></div></div></div></div></div>"
      ],
      "text/plain": [
       "LogisticRegression()"
      ]
     },
     "execution_count": 14,
     "metadata": {},
     "output_type": "execute_result"
    }
   ],
   "source": [
    "model = LogisticRegression()\n",
    "model.fit(X_train,y_train)"
   ]
  },
  {
   "cell_type": "code",
   "execution_count": 15,
   "id": "7fac83a9",
   "metadata": {
    "execution": {
     "iopub.execute_input": "2023-11-27T17:33:30.336826Z",
     "iopub.status.busy": "2023-11-27T17:33:30.336093Z",
     "iopub.status.idle": "2023-11-27T17:33:30.372852Z",
     "shell.execute_reply": "2023-11-27T17:33:30.371723Z"
    },
    "papermill": {
     "duration": 0.070857,
     "end_time": "2023-11-27T17:33:30.377567",
     "exception": false,
     "start_time": "2023-11-27T17:33:30.306710",
     "status": "completed"
    },
    "tags": []
   },
   "outputs": [
    {
     "name": "stdout",
     "output_type": "stream",
     "text": [
      "-------------------------------------------------------------------------\n",
      "The accuraccy score is: ------>>  0.7833935018050542\n",
      "-------------------------------------------------------------------------\n",
      "The Confusion Matrix is: ------>> \n",
      "[[314  40]\n",
      " [ 80 120]]\n",
      "-------------------------------------------------------------------------\n",
      "The Classification Report is: ---->>               precision    recall  f1-score   support\n",
      "\n",
      "           0       0.80      0.89      0.84       354\n",
      "           1       0.75      0.60      0.67       200\n",
      "\n",
      "    accuracy                           0.78       554\n",
      "   macro avg       0.77      0.74      0.75       554\n",
      "weighted avg       0.78      0.78      0.78       554\n",
      "\n"
     ]
    }
   ],
   "source": [
    "y_pred = model.predict(X_test)\n",
    "print(\"-------------------------------------------------------------------------\")\n",
    "print(f\"The accuraccy score is: ------>>  {accuracy_score(y_test,y_pred)}\")\n",
    "print(\"-------------------------------------------------------------------------\")\n",
    "print(f\"The Confusion Matrix is: ------>> \\n{confusion_matrix(y_test,y_pred)}\")\n",
    "print(\"-------------------------------------------------------------------------\")\n",
    "print(f\"The Classification Report is: ---->> {classification_report(y_test,y_pred)}\")"
   ]
  },
  {
   "cell_type": "markdown",
   "id": "76053799",
   "metadata": {
    "papermill": {
     "duration": 0.012581,
     "end_time": "2023-11-27T17:33:30.405002",
     "exception": false,
     "start_time": "2023-11-27T17:33:30.392421",
     "status": "completed"
    },
    "tags": []
   },
   "source": [
    "# Model -2 Decision Tree "
   ]
  },
  {
   "cell_type": "code",
   "execution_count": 16,
   "id": "cc6fd662",
   "metadata": {
    "execution": {
     "iopub.execute_input": "2023-11-27T17:33:30.433155Z",
     "iopub.status.busy": "2023-11-27T17:33:30.432378Z",
     "iopub.status.idle": "2023-11-27T17:33:30.451997Z",
     "shell.execute_reply": "2023-11-27T17:33:30.450836Z"
    },
    "papermill": {
     "duration": 0.036424,
     "end_time": "2023-11-27T17:33:30.454413",
     "exception": false,
     "start_time": "2023-11-27T17:33:30.417989",
     "status": "completed"
    },
    "tags": []
   },
   "outputs": [
    {
     "data": {
      "text/html": [
       "<style>#sk-container-id-2 {color: black;background-color: white;}#sk-container-id-2 pre{padding: 0;}#sk-container-id-2 div.sk-toggleable {background-color: white;}#sk-container-id-2 label.sk-toggleable__label {cursor: pointer;display: block;width: 100%;margin-bottom: 0;padding: 0.3em;box-sizing: border-box;text-align: center;}#sk-container-id-2 label.sk-toggleable__label-arrow:before {content: \"▸\";float: left;margin-right: 0.25em;color: #696969;}#sk-container-id-2 label.sk-toggleable__label-arrow:hover:before {color: black;}#sk-container-id-2 div.sk-estimator:hover label.sk-toggleable__label-arrow:before {color: black;}#sk-container-id-2 div.sk-toggleable__content {max-height: 0;max-width: 0;overflow: hidden;text-align: left;background-color: #f0f8ff;}#sk-container-id-2 div.sk-toggleable__content pre {margin: 0.2em;color: black;border-radius: 0.25em;background-color: #f0f8ff;}#sk-container-id-2 input.sk-toggleable__control:checked~div.sk-toggleable__content {max-height: 200px;max-width: 100%;overflow: auto;}#sk-container-id-2 input.sk-toggleable__control:checked~label.sk-toggleable__label-arrow:before {content: \"▾\";}#sk-container-id-2 div.sk-estimator input.sk-toggleable__control:checked~label.sk-toggleable__label {background-color: #d4ebff;}#sk-container-id-2 div.sk-label input.sk-toggleable__control:checked~label.sk-toggleable__label {background-color: #d4ebff;}#sk-container-id-2 input.sk-hidden--visually {border: 0;clip: rect(1px 1px 1px 1px);clip: rect(1px, 1px, 1px, 1px);height: 1px;margin: -1px;overflow: hidden;padding: 0;position: absolute;width: 1px;}#sk-container-id-2 div.sk-estimator {font-family: monospace;background-color: #f0f8ff;border: 1px dotted black;border-radius: 0.25em;box-sizing: border-box;margin-bottom: 0.5em;}#sk-container-id-2 div.sk-estimator:hover {background-color: #d4ebff;}#sk-container-id-2 div.sk-parallel-item::after {content: \"\";width: 100%;border-bottom: 1px solid gray;flex-grow: 1;}#sk-container-id-2 div.sk-label:hover label.sk-toggleable__label {background-color: #d4ebff;}#sk-container-id-2 div.sk-serial::before {content: \"\";position: absolute;border-left: 1px solid gray;box-sizing: border-box;top: 0;bottom: 0;left: 50%;z-index: 0;}#sk-container-id-2 div.sk-serial {display: flex;flex-direction: column;align-items: center;background-color: white;padding-right: 0.2em;padding-left: 0.2em;position: relative;}#sk-container-id-2 div.sk-item {position: relative;z-index: 1;}#sk-container-id-2 div.sk-parallel {display: flex;align-items: stretch;justify-content: center;background-color: white;position: relative;}#sk-container-id-2 div.sk-item::before, #sk-container-id-2 div.sk-parallel-item::before {content: \"\";position: absolute;border-left: 1px solid gray;box-sizing: border-box;top: 0;bottom: 0;left: 50%;z-index: -1;}#sk-container-id-2 div.sk-parallel-item {display: flex;flex-direction: column;z-index: 1;position: relative;background-color: white;}#sk-container-id-2 div.sk-parallel-item:first-child::after {align-self: flex-end;width: 50%;}#sk-container-id-2 div.sk-parallel-item:last-child::after {align-self: flex-start;width: 50%;}#sk-container-id-2 div.sk-parallel-item:only-child::after {width: 0;}#sk-container-id-2 div.sk-dashed-wrapped {border: 1px dashed gray;margin: 0 0.4em 0.5em 0.4em;box-sizing: border-box;padding-bottom: 0.4em;background-color: white;}#sk-container-id-2 div.sk-label label {font-family: monospace;font-weight: bold;display: inline-block;line-height: 1.2em;}#sk-container-id-2 div.sk-label-container {text-align: center;}#sk-container-id-2 div.sk-container {/* jupyter's `normalize.less` sets `[hidden] { display: none; }` but bootstrap.min.css set `[hidden] { display: none !important; }` so we also need the `!important` here to be able to override the default hidden behavior on the sphinx rendered scikit-learn.org. See: https://github.com/scikit-learn/scikit-learn/issues/21755 */display: inline-block !important;position: relative;}#sk-container-id-2 div.sk-text-repr-fallback {display: none;}</style><div id=\"sk-container-id-2\" class=\"sk-top-container\"><div class=\"sk-text-repr-fallback\"><pre>DecisionTreeClassifier()</pre><b>In a Jupyter environment, please rerun this cell to show the HTML representation or trust the notebook. <br />On GitHub, the HTML representation is unable to render, please try loading this page with nbviewer.org.</b></div><div class=\"sk-container\" hidden><div class=\"sk-item\"><div class=\"sk-estimator sk-toggleable\"><input class=\"sk-toggleable__control sk-hidden--visually\" id=\"sk-estimator-id-2\" type=\"checkbox\" checked><label for=\"sk-estimator-id-2\" class=\"sk-toggleable__label sk-toggleable__label-arrow\">DecisionTreeClassifier</label><div class=\"sk-toggleable__content\"><pre>DecisionTreeClassifier()</pre></div></div></div></div></div>"
      ],
      "text/plain": [
       "DecisionTreeClassifier()"
      ]
     },
     "execution_count": 16,
     "metadata": {},
     "output_type": "execute_result"
    }
   ],
   "source": [
    "model = DecisionTreeClassifier()\n",
    "model.fit(X_train,y_train)"
   ]
  },
  {
   "cell_type": "code",
   "execution_count": 17,
   "id": "0fa3682b",
   "metadata": {
    "execution": {
     "iopub.execute_input": "2023-11-27T17:33:30.484543Z",
     "iopub.status.busy": "2023-11-27T17:33:30.484082Z",
     "iopub.status.idle": "2023-11-27T17:33:30.504831Z",
     "shell.execute_reply": "2023-11-27T17:33:30.503457Z"
    },
    "papermill": {
     "duration": 0.039571,
     "end_time": "2023-11-27T17:33:30.507378",
     "exception": false,
     "start_time": "2023-11-27T17:33:30.467807",
     "status": "completed"
    },
    "tags": []
   },
   "outputs": [
    {
     "name": "stdout",
     "output_type": "stream",
     "text": [
      "-------------------------------------------------------------------------\n",
      "The accuraccy score is: ------>>  0.9819494584837545\n",
      "-------------------------------------------------------------------------\n",
      "The Confusion Matrix is: ------>> \n",
      "[[354   0]\n",
      " [ 10 190]]\n",
      "-------------------------------------------------------------------------\n",
      "The Classification Report is: ---->>               precision    recall  f1-score   support\n",
      "\n",
      "           0       0.97      1.00      0.99       354\n",
      "           1       1.00      0.95      0.97       200\n",
      "\n",
      "    accuracy                           0.98       554\n",
      "   macro avg       0.99      0.97      0.98       554\n",
      "weighted avg       0.98      0.98      0.98       554\n",
      "\n"
     ]
    }
   ],
   "source": [
    "y_pred = model.predict(X_test)\n",
    "print(\"-------------------------------------------------------------------------\")\n",
    "print(f\"The accuraccy score is: ------>>  {accuracy_score(y_test,y_pred)}\")\n",
    "print(\"-------------------------------------------------------------------------\")\n",
    "print(f\"The Confusion Matrix is: ------>> \\n{confusion_matrix(y_test,y_pred)}\")\n",
    "print(\"-------------------------------------------------------------------------\")\n",
    "print(f\"The Classification Report is: ---->> {classification_report(y_test,y_pred)}\")"
   ]
  },
  {
   "cell_type": "markdown",
   "id": "4c07081d",
   "metadata": {
    "papermill": {
     "duration": 0.012964,
     "end_time": "2023-11-27T17:33:30.533929",
     "exception": false,
     "start_time": "2023-11-27T17:33:30.520965",
     "status": "completed"
    },
    "tags": []
   },
   "source": [
    "# Model - 3 SVC"
   ]
  },
  {
   "cell_type": "code",
   "execution_count": 18,
   "id": "accf5053",
   "metadata": {
    "execution": {
     "iopub.execute_input": "2023-11-27T17:33:30.562989Z",
     "iopub.status.busy": "2023-11-27T17:33:30.561877Z",
     "iopub.status.idle": "2023-11-27T17:33:30.704296Z",
     "shell.execute_reply": "2023-11-27T17:33:30.703057Z"
    },
    "papermill": {
     "duration": 0.159776,
     "end_time": "2023-11-27T17:33:30.706945",
     "exception": false,
     "start_time": "2023-11-27T17:33:30.547169",
     "status": "completed"
    },
    "tags": []
   },
   "outputs": [
    {
     "data": {
      "text/html": [
       "<style>#sk-container-id-3 {color: black;background-color: white;}#sk-container-id-3 pre{padding: 0;}#sk-container-id-3 div.sk-toggleable {background-color: white;}#sk-container-id-3 label.sk-toggleable__label {cursor: pointer;display: block;width: 100%;margin-bottom: 0;padding: 0.3em;box-sizing: border-box;text-align: center;}#sk-container-id-3 label.sk-toggleable__label-arrow:before {content: \"▸\";float: left;margin-right: 0.25em;color: #696969;}#sk-container-id-3 label.sk-toggleable__label-arrow:hover:before {color: black;}#sk-container-id-3 div.sk-estimator:hover label.sk-toggleable__label-arrow:before {color: black;}#sk-container-id-3 div.sk-toggleable__content {max-height: 0;max-width: 0;overflow: hidden;text-align: left;background-color: #f0f8ff;}#sk-container-id-3 div.sk-toggleable__content pre {margin: 0.2em;color: black;border-radius: 0.25em;background-color: #f0f8ff;}#sk-container-id-3 input.sk-toggleable__control:checked~div.sk-toggleable__content {max-height: 200px;max-width: 100%;overflow: auto;}#sk-container-id-3 input.sk-toggleable__control:checked~label.sk-toggleable__label-arrow:before {content: \"▾\";}#sk-container-id-3 div.sk-estimator input.sk-toggleable__control:checked~label.sk-toggleable__label {background-color: #d4ebff;}#sk-container-id-3 div.sk-label input.sk-toggleable__control:checked~label.sk-toggleable__label {background-color: #d4ebff;}#sk-container-id-3 input.sk-hidden--visually {border: 0;clip: rect(1px 1px 1px 1px);clip: rect(1px, 1px, 1px, 1px);height: 1px;margin: -1px;overflow: hidden;padding: 0;position: absolute;width: 1px;}#sk-container-id-3 div.sk-estimator {font-family: monospace;background-color: #f0f8ff;border: 1px dotted black;border-radius: 0.25em;box-sizing: border-box;margin-bottom: 0.5em;}#sk-container-id-3 div.sk-estimator:hover {background-color: #d4ebff;}#sk-container-id-3 div.sk-parallel-item::after {content: \"\";width: 100%;border-bottom: 1px solid gray;flex-grow: 1;}#sk-container-id-3 div.sk-label:hover label.sk-toggleable__label {background-color: #d4ebff;}#sk-container-id-3 div.sk-serial::before {content: \"\";position: absolute;border-left: 1px solid gray;box-sizing: border-box;top: 0;bottom: 0;left: 50%;z-index: 0;}#sk-container-id-3 div.sk-serial {display: flex;flex-direction: column;align-items: center;background-color: white;padding-right: 0.2em;padding-left: 0.2em;position: relative;}#sk-container-id-3 div.sk-item {position: relative;z-index: 1;}#sk-container-id-3 div.sk-parallel {display: flex;align-items: stretch;justify-content: center;background-color: white;position: relative;}#sk-container-id-3 div.sk-item::before, #sk-container-id-3 div.sk-parallel-item::before {content: \"\";position: absolute;border-left: 1px solid gray;box-sizing: border-box;top: 0;bottom: 0;left: 50%;z-index: -1;}#sk-container-id-3 div.sk-parallel-item {display: flex;flex-direction: column;z-index: 1;position: relative;background-color: white;}#sk-container-id-3 div.sk-parallel-item:first-child::after {align-self: flex-end;width: 50%;}#sk-container-id-3 div.sk-parallel-item:last-child::after {align-self: flex-start;width: 50%;}#sk-container-id-3 div.sk-parallel-item:only-child::after {width: 0;}#sk-container-id-3 div.sk-dashed-wrapped {border: 1px dashed gray;margin: 0 0.4em 0.5em 0.4em;box-sizing: border-box;padding-bottom: 0.4em;background-color: white;}#sk-container-id-3 div.sk-label label {font-family: monospace;font-weight: bold;display: inline-block;line-height: 1.2em;}#sk-container-id-3 div.sk-label-container {text-align: center;}#sk-container-id-3 div.sk-container {/* jupyter's `normalize.less` sets `[hidden] { display: none; }` but bootstrap.min.css set `[hidden] { display: none !important; }` so we also need the `!important` here to be able to override the default hidden behavior on the sphinx rendered scikit-learn.org. See: https://github.com/scikit-learn/scikit-learn/issues/21755 */display: inline-block !important;position: relative;}#sk-container-id-3 div.sk-text-repr-fallback {display: none;}</style><div id=\"sk-container-id-3\" class=\"sk-top-container\"><div class=\"sk-text-repr-fallback\"><pre>SVC()</pre><b>In a Jupyter environment, please rerun this cell to show the HTML representation or trust the notebook. <br />On GitHub, the HTML representation is unable to render, please try loading this page with nbviewer.org.</b></div><div class=\"sk-container\" hidden><div class=\"sk-item\"><div class=\"sk-estimator sk-toggleable\"><input class=\"sk-toggleable__control sk-hidden--visually\" id=\"sk-estimator-id-3\" type=\"checkbox\" checked><label for=\"sk-estimator-id-3\" class=\"sk-toggleable__label sk-toggleable__label-arrow\">SVC</label><div class=\"sk-toggleable__content\"><pre>SVC()</pre></div></div></div></div></div>"
      ],
      "text/plain": [
       "SVC()"
      ]
     },
     "execution_count": 18,
     "metadata": {},
     "output_type": "execute_result"
    }
   ],
   "source": [
    "model = SVC()\n",
    "model.fit(X_train,y_train)"
   ]
  },
  {
   "cell_type": "code",
   "execution_count": 19,
   "id": "e5e6fab2",
   "metadata": {
    "execution": {
     "iopub.execute_input": "2023-11-27T17:33:30.736907Z",
     "iopub.status.busy": "2023-11-27T17:33:30.736492Z",
     "iopub.status.idle": "2023-11-27T17:33:30.794357Z",
     "shell.execute_reply": "2023-11-27T17:33:30.793295Z"
    },
    "papermill": {
     "duration": 0.076088,
     "end_time": "2023-11-27T17:33:30.796993",
     "exception": false,
     "start_time": "2023-11-27T17:33:30.720905",
     "status": "completed"
    },
    "tags": []
   },
   "outputs": [
    {
     "name": "stdout",
     "output_type": "stream",
     "text": [
      "-------------------------------------------------------------------------\n",
      "The accuraccy score is: ------>>  0.7671480144404332\n",
      "-------------------------------------------------------------------------\n",
      "The Confusion Matrix is: ------>> \n",
      "[[323  31]\n",
      " [ 98 102]]\n",
      "-------------------------------------------------------------------------\n",
      "The Classification Report is: ---->>               precision    recall  f1-score   support\n",
      "\n",
      "           0       0.77      0.91      0.83       354\n",
      "           1       0.77      0.51      0.61       200\n",
      "\n",
      "    accuracy                           0.77       554\n",
      "   macro avg       0.77      0.71      0.72       554\n",
      "weighted avg       0.77      0.77      0.75       554\n",
      "\n"
     ]
    }
   ],
   "source": [
    "y_pred = model.predict(X_test)\n",
    "print(\"-------------------------------------------------------------------------\")\n",
    "print(f\"The accuraccy score is: ------>>  {accuracy_score(y_test,y_pred)}\")\n",
    "print(\"-------------------------------------------------------------------------\")\n",
    "print(f\"The Confusion Matrix is: ------>> \\n{confusion_matrix(y_test,y_pred)}\")\n",
    "print(\"-------------------------------------------------------------------------\")\n",
    "print(f\"The Classification Report is: ---->> {classification_report(y_test,y_pred)}\")"
   ]
  },
  {
   "cell_type": "markdown",
   "id": "39560fc3",
   "metadata": {
    "papermill": {
     "duration": 0.013491,
     "end_time": "2023-11-27T17:33:30.884894",
     "exception": false,
     "start_time": "2023-11-27T17:33:30.871403",
     "status": "completed"
    },
    "tags": []
   },
   "source": [
    "# Model - 4 KNN"
   ]
  },
  {
   "cell_type": "code",
   "execution_count": 20,
   "id": "3bd8286e",
   "metadata": {
    "execution": {
     "iopub.execute_input": "2023-11-27T17:33:30.914248Z",
     "iopub.status.busy": "2023-11-27T17:33:30.913820Z",
     "iopub.status.idle": "2023-11-27T17:33:30.926591Z",
     "shell.execute_reply": "2023-11-27T17:33:30.925736Z"
    },
    "papermill": {
     "duration": 0.030134,
     "end_time": "2023-11-27T17:33:30.928759",
     "exception": false,
     "start_time": "2023-11-27T17:33:30.898625",
     "status": "completed"
    },
    "tags": []
   },
   "outputs": [
    {
     "data": {
      "text/html": [
       "<style>#sk-container-id-4 {color: black;background-color: white;}#sk-container-id-4 pre{padding: 0;}#sk-container-id-4 div.sk-toggleable {background-color: white;}#sk-container-id-4 label.sk-toggleable__label {cursor: pointer;display: block;width: 100%;margin-bottom: 0;padding: 0.3em;box-sizing: border-box;text-align: center;}#sk-container-id-4 label.sk-toggleable__label-arrow:before {content: \"▸\";float: left;margin-right: 0.25em;color: #696969;}#sk-container-id-4 label.sk-toggleable__label-arrow:hover:before {color: black;}#sk-container-id-4 div.sk-estimator:hover label.sk-toggleable__label-arrow:before {color: black;}#sk-container-id-4 div.sk-toggleable__content {max-height: 0;max-width: 0;overflow: hidden;text-align: left;background-color: #f0f8ff;}#sk-container-id-4 div.sk-toggleable__content pre {margin: 0.2em;color: black;border-radius: 0.25em;background-color: #f0f8ff;}#sk-container-id-4 input.sk-toggleable__control:checked~div.sk-toggleable__content {max-height: 200px;max-width: 100%;overflow: auto;}#sk-container-id-4 input.sk-toggleable__control:checked~label.sk-toggleable__label-arrow:before {content: \"▾\";}#sk-container-id-4 div.sk-estimator input.sk-toggleable__control:checked~label.sk-toggleable__label {background-color: #d4ebff;}#sk-container-id-4 div.sk-label input.sk-toggleable__control:checked~label.sk-toggleable__label {background-color: #d4ebff;}#sk-container-id-4 input.sk-hidden--visually {border: 0;clip: rect(1px 1px 1px 1px);clip: rect(1px, 1px, 1px, 1px);height: 1px;margin: -1px;overflow: hidden;padding: 0;position: absolute;width: 1px;}#sk-container-id-4 div.sk-estimator {font-family: monospace;background-color: #f0f8ff;border: 1px dotted black;border-radius: 0.25em;box-sizing: border-box;margin-bottom: 0.5em;}#sk-container-id-4 div.sk-estimator:hover {background-color: #d4ebff;}#sk-container-id-4 div.sk-parallel-item::after {content: \"\";width: 100%;border-bottom: 1px solid gray;flex-grow: 1;}#sk-container-id-4 div.sk-label:hover label.sk-toggleable__label {background-color: #d4ebff;}#sk-container-id-4 div.sk-serial::before {content: \"\";position: absolute;border-left: 1px solid gray;box-sizing: border-box;top: 0;bottom: 0;left: 50%;z-index: 0;}#sk-container-id-4 div.sk-serial {display: flex;flex-direction: column;align-items: center;background-color: white;padding-right: 0.2em;padding-left: 0.2em;position: relative;}#sk-container-id-4 div.sk-item {position: relative;z-index: 1;}#sk-container-id-4 div.sk-parallel {display: flex;align-items: stretch;justify-content: center;background-color: white;position: relative;}#sk-container-id-4 div.sk-item::before, #sk-container-id-4 div.sk-parallel-item::before {content: \"\";position: absolute;border-left: 1px solid gray;box-sizing: border-box;top: 0;bottom: 0;left: 50%;z-index: -1;}#sk-container-id-4 div.sk-parallel-item {display: flex;flex-direction: column;z-index: 1;position: relative;background-color: white;}#sk-container-id-4 div.sk-parallel-item:first-child::after {align-self: flex-end;width: 50%;}#sk-container-id-4 div.sk-parallel-item:last-child::after {align-self: flex-start;width: 50%;}#sk-container-id-4 div.sk-parallel-item:only-child::after {width: 0;}#sk-container-id-4 div.sk-dashed-wrapped {border: 1px dashed gray;margin: 0 0.4em 0.5em 0.4em;box-sizing: border-box;padding-bottom: 0.4em;background-color: white;}#sk-container-id-4 div.sk-label label {font-family: monospace;font-weight: bold;display: inline-block;line-height: 1.2em;}#sk-container-id-4 div.sk-label-container {text-align: center;}#sk-container-id-4 div.sk-container {/* jupyter's `normalize.less` sets `[hidden] { display: none; }` but bootstrap.min.css set `[hidden] { display: none !important; }` so we also need the `!important` here to be able to override the default hidden behavior on the sphinx rendered scikit-learn.org. See: https://github.com/scikit-learn/scikit-learn/issues/21755 */display: inline-block !important;position: relative;}#sk-container-id-4 div.sk-text-repr-fallback {display: none;}</style><div id=\"sk-container-id-4\" class=\"sk-top-container\"><div class=\"sk-text-repr-fallback\"><pre>KNeighborsClassifier()</pre><b>In a Jupyter environment, please rerun this cell to show the HTML representation or trust the notebook. <br />On GitHub, the HTML representation is unable to render, please try loading this page with nbviewer.org.</b></div><div class=\"sk-container\" hidden><div class=\"sk-item\"><div class=\"sk-estimator sk-toggleable\"><input class=\"sk-toggleable__control sk-hidden--visually\" id=\"sk-estimator-id-4\" type=\"checkbox\" checked><label for=\"sk-estimator-id-4\" class=\"sk-toggleable__label sk-toggleable__label-arrow\">KNeighborsClassifier</label><div class=\"sk-toggleable__content\"><pre>KNeighborsClassifier()</pre></div></div></div></div></div>"
      ],
      "text/plain": [
       "KNeighborsClassifier()"
      ]
     },
     "execution_count": 20,
     "metadata": {},
     "output_type": "execute_result"
    }
   ],
   "source": [
    "model = KNeighborsClassifier()\n",
    "model.fit(X_train,y_train)"
   ]
  },
  {
   "cell_type": "code",
   "execution_count": 21,
   "id": "97f156c7",
   "metadata": {
    "execution": {
     "iopub.execute_input": "2023-11-27T17:33:30.958710Z",
     "iopub.status.busy": "2023-11-27T17:33:30.958281Z",
     "iopub.status.idle": "2023-11-27T17:33:31.020533Z",
     "shell.execute_reply": "2023-11-27T17:33:31.019222Z"
    },
    "papermill": {
     "duration": 0.080201,
     "end_time": "2023-11-27T17:33:31.022847",
     "exception": false,
     "start_time": "2023-11-27T17:33:30.942646",
     "status": "completed"
    },
    "tags": []
   },
   "outputs": [
    {
     "name": "stdout",
     "output_type": "stream",
     "text": [
      "-------------------------------------------------------------------------\n",
      "The accuraccy score is: ------>>  0.8267148014440433\n",
      "-------------------------------------------------------------------------\n",
      "The Confusion Matrix is: ------>> \n",
      "[[306  48]\n",
      " [ 48 152]]\n",
      "-------------------------------------------------------------------------\n",
      "The Classification Report is: ---->>               precision    recall  f1-score   support\n",
      "\n",
      "           0       0.86      0.86      0.86       354\n",
      "           1       0.76      0.76      0.76       200\n",
      "\n",
      "    accuracy                           0.83       554\n",
      "   macro avg       0.81      0.81      0.81       554\n",
      "weighted avg       0.83      0.83      0.83       554\n",
      "\n"
     ]
    }
   ],
   "source": [
    "y_pred = model.predict(X_test)\n",
    "print(\"-------------------------------------------------------------------------\")\n",
    "print(f\"The accuraccy score is: ------>>  {accuracy_score(y_test,y_pred)}\")\n",
    "print(\"-------------------------------------------------------------------------\")\n",
    "print(f\"The Confusion Matrix is: ------>> \\n{confusion_matrix(y_test,y_pred)}\")\n",
    "print(\"-------------------------------------------------------------------------\")\n",
    "print(f\"The Classification Report is: ---->> {classification_report(y_test,y_pred)}\")"
   ]
  },
  {
   "cell_type": "markdown",
   "id": "b3c49124",
   "metadata": {
    "papermill": {
     "duration": 0.013874,
     "end_time": "2023-11-27T17:33:31.051525",
     "exception": false,
     "start_time": "2023-11-27T17:33:31.037651",
     "status": "completed"
    },
    "tags": []
   },
   "source": [
    "# Model -5 Random Forest (Best Results)"
   ]
  },
  {
   "cell_type": "code",
   "execution_count": 22,
   "id": "0b9e611f",
   "metadata": {
    "execution": {
     "iopub.execute_input": "2023-11-27T17:33:31.081628Z",
     "iopub.status.busy": "2023-11-27T17:33:31.081182Z",
     "iopub.status.idle": "2023-11-27T17:33:31.517502Z",
     "shell.execute_reply": "2023-11-27T17:33:31.516349Z"
    },
    "papermill": {
     "duration": 0.454481,
     "end_time": "2023-11-27T17:33:31.520078",
     "exception": false,
     "start_time": "2023-11-27T17:33:31.065597",
     "status": "completed"
    },
    "tags": []
   },
   "outputs": [
    {
     "data": {
      "text/html": [
       "<style>#sk-container-id-5 {color: black;background-color: white;}#sk-container-id-5 pre{padding: 0;}#sk-container-id-5 div.sk-toggleable {background-color: white;}#sk-container-id-5 label.sk-toggleable__label {cursor: pointer;display: block;width: 100%;margin-bottom: 0;padding: 0.3em;box-sizing: border-box;text-align: center;}#sk-container-id-5 label.sk-toggleable__label-arrow:before {content: \"▸\";float: left;margin-right: 0.25em;color: #696969;}#sk-container-id-5 label.sk-toggleable__label-arrow:hover:before {color: black;}#sk-container-id-5 div.sk-estimator:hover label.sk-toggleable__label-arrow:before {color: black;}#sk-container-id-5 div.sk-toggleable__content {max-height: 0;max-width: 0;overflow: hidden;text-align: left;background-color: #f0f8ff;}#sk-container-id-5 div.sk-toggleable__content pre {margin: 0.2em;color: black;border-radius: 0.25em;background-color: #f0f8ff;}#sk-container-id-5 input.sk-toggleable__control:checked~div.sk-toggleable__content {max-height: 200px;max-width: 100%;overflow: auto;}#sk-container-id-5 input.sk-toggleable__control:checked~label.sk-toggleable__label-arrow:before {content: \"▾\";}#sk-container-id-5 div.sk-estimator input.sk-toggleable__control:checked~label.sk-toggleable__label {background-color: #d4ebff;}#sk-container-id-5 div.sk-label input.sk-toggleable__control:checked~label.sk-toggleable__label {background-color: #d4ebff;}#sk-container-id-5 input.sk-hidden--visually {border: 0;clip: rect(1px 1px 1px 1px);clip: rect(1px, 1px, 1px, 1px);height: 1px;margin: -1px;overflow: hidden;padding: 0;position: absolute;width: 1px;}#sk-container-id-5 div.sk-estimator {font-family: monospace;background-color: #f0f8ff;border: 1px dotted black;border-radius: 0.25em;box-sizing: border-box;margin-bottom: 0.5em;}#sk-container-id-5 div.sk-estimator:hover {background-color: #d4ebff;}#sk-container-id-5 div.sk-parallel-item::after {content: \"\";width: 100%;border-bottom: 1px solid gray;flex-grow: 1;}#sk-container-id-5 div.sk-label:hover label.sk-toggleable__label {background-color: #d4ebff;}#sk-container-id-5 div.sk-serial::before {content: \"\";position: absolute;border-left: 1px solid gray;box-sizing: border-box;top: 0;bottom: 0;left: 50%;z-index: 0;}#sk-container-id-5 div.sk-serial {display: flex;flex-direction: column;align-items: center;background-color: white;padding-right: 0.2em;padding-left: 0.2em;position: relative;}#sk-container-id-5 div.sk-item {position: relative;z-index: 1;}#sk-container-id-5 div.sk-parallel {display: flex;align-items: stretch;justify-content: center;background-color: white;position: relative;}#sk-container-id-5 div.sk-item::before, #sk-container-id-5 div.sk-parallel-item::before {content: \"\";position: absolute;border-left: 1px solid gray;box-sizing: border-box;top: 0;bottom: 0;left: 50%;z-index: -1;}#sk-container-id-5 div.sk-parallel-item {display: flex;flex-direction: column;z-index: 1;position: relative;background-color: white;}#sk-container-id-5 div.sk-parallel-item:first-child::after {align-self: flex-end;width: 50%;}#sk-container-id-5 div.sk-parallel-item:last-child::after {align-self: flex-start;width: 50%;}#sk-container-id-5 div.sk-parallel-item:only-child::after {width: 0;}#sk-container-id-5 div.sk-dashed-wrapped {border: 1px dashed gray;margin: 0 0.4em 0.5em 0.4em;box-sizing: border-box;padding-bottom: 0.4em;background-color: white;}#sk-container-id-5 div.sk-label label {font-family: monospace;font-weight: bold;display: inline-block;line-height: 1.2em;}#sk-container-id-5 div.sk-label-container {text-align: center;}#sk-container-id-5 div.sk-container {/* jupyter's `normalize.less` sets `[hidden] { display: none; }` but bootstrap.min.css set `[hidden] { display: none !important; }` so we also need the `!important` here to be able to override the default hidden behavior on the sphinx rendered scikit-learn.org. See: https://github.com/scikit-learn/scikit-learn/issues/21755 */display: inline-block !important;position: relative;}#sk-container-id-5 div.sk-text-repr-fallback {display: none;}</style><div id=\"sk-container-id-5\" class=\"sk-top-container\"><div class=\"sk-text-repr-fallback\"><pre>RandomForestClassifier()</pre><b>In a Jupyter environment, please rerun this cell to show the HTML representation or trust the notebook. <br />On GitHub, the HTML representation is unable to render, please try loading this page with nbviewer.org.</b></div><div class=\"sk-container\" hidden><div class=\"sk-item\"><div class=\"sk-estimator sk-toggleable\"><input class=\"sk-toggleable__control sk-hidden--visually\" id=\"sk-estimator-id-5\" type=\"checkbox\" checked><label for=\"sk-estimator-id-5\" class=\"sk-toggleable__label sk-toggleable__label-arrow\">RandomForestClassifier</label><div class=\"sk-toggleable__content\"><pre>RandomForestClassifier()</pre></div></div></div></div></div>"
      ],
      "text/plain": [
       "RandomForestClassifier()"
      ]
     },
     "execution_count": 22,
     "metadata": {},
     "output_type": "execute_result"
    }
   ],
   "source": [
    "model = RandomForestClassifier()\n",
    "model.fit(X_train,y_train)"
   ]
  },
  {
   "cell_type": "code",
   "execution_count": 23,
   "id": "e1b9eb58",
   "metadata": {
    "execution": {
     "iopub.execute_input": "2023-11-27T17:33:31.550975Z",
     "iopub.status.busy": "2023-11-27T17:33:31.550575Z",
     "iopub.status.idle": "2023-11-27T17:33:31.589402Z",
     "shell.execute_reply": "2023-11-27T17:33:31.588148Z"
    },
    "papermill": {
     "duration": 0.057384,
     "end_time": "2023-11-27T17:33:31.592114",
     "exception": false,
     "start_time": "2023-11-27T17:33:31.534730",
     "status": "completed"
    },
    "tags": []
   },
   "outputs": [
    {
     "name": "stdout",
     "output_type": "stream",
     "text": [
      "-------------------------------------------------------------------------\n",
      "The accuraccy score is: ------>>  0.9981949458483754\n",
      "-------------------------------------------------------------------------\n",
      "The Confusion Matrix is: ------>> \n",
      "[[354   0]\n",
      " [  1 199]]\n",
      "-------------------------------------------------------------------------\n",
      "The Classification Report is: ---->>               precision    recall  f1-score   support\n",
      "\n",
      "           0       1.00      1.00      1.00       354\n",
      "           1       1.00      0.99      1.00       200\n",
      "\n",
      "    accuracy                           1.00       554\n",
      "   macro avg       1.00      1.00      1.00       554\n",
      "weighted avg       1.00      1.00      1.00       554\n",
      "\n"
     ]
    }
   ],
   "source": [
    "y_pred = model.predict(X_test)\n",
    "print(\"-------------------------------------------------------------------------\")\n",
    "print(f\"The accuraccy score is: ------>>  {accuracy_score(y_test,y_pred)}\")\n",
    "print(\"-------------------------------------------------------------------------\")\n",
    "print(f\"The Confusion Matrix is: ------>> \\n{confusion_matrix(y_test,y_pred)}\")\n",
    "print(\"-------------------------------------------------------------------------\")\n",
    "print(f\"The Classification Report is: ---->> {classification_report(y_test,y_pred)}\")"
   ]
  },
  {
   "cell_type": "markdown",
   "id": "1c3c102e",
   "metadata": {
    "papermill": {
     "duration": 0.014165,
     "end_time": "2023-11-27T17:33:31.620659",
     "exception": false,
     "start_time": "2023-11-27T17:33:31.606494",
     "status": "completed"
    },
    "tags": []
   },
   "source": [
    "# Conclusions"
   ]
  },
  {
   "cell_type": "markdown",
   "id": "83e1ce57",
   "metadata": {
    "papermill": {
     "duration": 0.014173,
     "end_time": "2023-11-27T17:33:31.649215",
     "exception": false,
     "start_time": "2023-11-27T17:33:31.635042",
     "status": "completed"
    },
    "tags": []
   },
   "source": [
    "The best model is Random forest with the accuraccy of 99%"
   ]
  },
  {
   "cell_type": "markdown",
   "id": "aa97da0d",
   "metadata": {
    "papermill": {
     "duration": 0.017244,
     "end_time": "2023-11-27T17:33:31.681917",
     "exception": false,
     "start_time": "2023-11-27T17:33:31.664673",
     "status": "completed"
    },
    "tags": []
   },
   "source": [
    "![](https://encrypted-tbn0.gstatic.com/images?q=tbn:ANd9GcTuwGP2VKvli5HIJm0WrIHK0EAM3KqIKdSLdQ&usqp=CAU)"
   ]
  },
  {
   "cell_type": "markdown",
   "id": "23904dda",
   "metadata": {
    "papermill": {
     "duration": 0.014078,
     "end_time": "2023-11-27T17:33:31.710768",
     "exception": false,
     "start_time": "2023-11-27T17:33:31.696690",
     "status": "completed"
    },
    "tags": []
   },
   "source": [
    "Please **Upvote** if you like the notebook and feel free to share your opinion in **comments**"
   ]
  },
  {
   "cell_type": "code",
   "execution_count": null,
   "id": "99b3d5ac",
   "metadata": {
    "papermill": {
     "duration": 0.014148,
     "end_time": "2023-11-27T17:33:31.739383",
     "exception": false,
     "start_time": "2023-11-27T17:33:31.725235",
     "status": "completed"
    },
    "tags": []
   },
   "outputs": [],
   "source": []
  }
 ],
 "metadata": {
  "kaggle": {
   "accelerator": "none",
   "dataSources": [
    {
     "datasetId": 3659326,
     "sourceId": 6353627,
     "sourceType": "datasetVersion"
    }
   ],
   "dockerImageVersionId": 30587,
   "isGpuEnabled": false,
   "isInternetEnabled": true,
   "language": "python",
   "sourceType": "notebook"
  },
  "kernelspec": {
   "display_name": "Python 3",
   "language": "python",
   "name": "python3"
  },
  "language_info": {
   "codemirror_mode": {
    "name": "ipython",
    "version": 3
   },
   "file_extension": ".py",
   "mimetype": "text/x-python",
   "name": "python",
   "nbconvert_exporter": "python",
   "pygments_lexer": "ipython3",
   "version": "3.10.12"
  },
  "papermill": {
   "default_parameters": {},
   "duration": 9.171618,
   "end_time": "2023-11-27T17:33:32.374585",
   "environment_variables": {},
   "exception": null,
   "input_path": "__notebook__.ipynb",
   "output_path": "__notebook__.ipynb",
   "parameters": {},
   "start_time": "2023-11-27T17:33:23.202967",
   "version": "2.4.0"
  }
 },
 "nbformat": 4,
 "nbformat_minor": 5
}
